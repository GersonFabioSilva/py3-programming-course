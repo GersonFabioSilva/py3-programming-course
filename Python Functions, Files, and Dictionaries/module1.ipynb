{
 "cells": [
  {
   "attachments": {
    "image.png": {
     "image/png": "[encoded data removed]"
    }
   },
   "cell_type": "markdown",
   "metadata": {},
   "source": [
    "## 10.1. Introduction: Working with Data Files\n",
    "\n",
    "So far, the data we have used in this book have all been either coded right into the program, or have been entered by the user. In real life data reside in files. For example the images we worked with in the image processing unit ultimately live in files on your hard drive. Web pages, and word processing documents, and music are other examples of data that live in files. In this short chapter we will introduce the Python concepts necessary to use data from files in our programs.\n",
    "\n",
    "For our purposes, we will assume that our data files are text files–that is, files filled with characters. The Python programs that you write are stored as text files. We can create these files in any of a number of ways. For example, we could use a text editor to type in and save the data. We could also download the data from a website and then save it in a file. Regardless of how the file is created, Python will allow us to manipulate the contents.\n",
    "\n",
    "In Python, we must open files before we can use them and close them when we are done with them. As you might expect, once a file is opened it becomes a Python object just like all other data. Table 1 shows the functions and methods that can be used to open and close files.\n",
    "\n",
    "![image.png](attachment:image.png)"
   ]
  },
  {
   "cell_type": "code",
   "execution_count": null,
   "metadata": {},
   "outputs": [],
   "source": [
    "fileref = open(\"requirements.txt\",\"r\")\n",
    "content = fileref.read()\n",
    "print(content[:200])\n",
    "fileref.close()"
   ]
  },
  {
   "cell_type": "code",
   "execution_count": 12,
   "metadata": {},
   "outputs": [
    {
     "name": "stdout",
     "output_type": "stream",
     "text": [
      "['# SPDX-FileCopyrightText: Copyright (C) Siemens AG 2023\\n', '#\\n', '# SPDX-License-Identifier: MIT\\n', '\\n', '# direct dependencies\\n', 'simaticai==2.2.0\\n', '\\n', 'matplotlib==3.7.5\\n', 'numpy==1.24.2\\n', 'opencv-python-headless==4.9.0.80\\n']\n"
     ]
    }
   ],
   "source": [
    "fileref = open(\"requirements.txt\",\"r\")\n",
    "lines = fileref.readlines()\n",
    "print(lines[:10])\n",
    "fileref.close()"
   ]
  },
  {
   "cell_type": "code",
   "execution_count": null,
   "metadata": {},
   "outputs": [],
   "source": [
    "fileref = open(\"requirements.txt\",\"r\")\n",
    "lines = fileref.readlines()\n",
    "for lin in lines[:10]:\n",
    "    print(lin.strip()) # strip - retira os espacos em branco\n",
    "fileref.close()"
   ]
  },
  {
   "cell_type": "code",
   "execution_count": null,
   "metadata": {},
   "outputs": [],
   "source": [
    "#nessa versao é possivel iterar por todo o texto como acima, porém não é possivel definir uma faixa especifica\n",
    "\n",
    "fileref = open(\"requirements.txt\",\"r\")\n",
    "#lines = fileref.readlines()\n",
    "for lin in fileref:\n",
    "    print(lin.strip()) # strip - retira os espacos em branco\n",
    "fileref.close()"
   ]
  },
  {
   "cell_type": "code",
   "execution_count": null,
   "metadata": {},
   "outputs": [
    {
     "name": "stdout",
     "output_type": "stream",
     "text": [
      "81\n"
     ]
    }
   ],
   "source": [
    "# extrair o numero de linhas do arquivo\n",
    "\n",
    "fileref = open(\"requirements.txt\",\"r\")\n",
    "lines = fileref.readlines()\n",
    "print(len(lines))\n",
    "#for lin in lines[:10]:\n",
    "#    print(lin.strip()) # strip - retira os espacos em branco\n",
    "fileref.close()"
   ]
  },
  {
   "cell_type": "code",
   "execution_count": null,
   "metadata": {},
   "outputs": [
    {
     "name": "stdout",
     "output_type": "stream",
     "text": [
      "1497\n"
     ]
    }
   ],
   "source": [
    "# extrair o numero de carcateres do arquivo\n",
    "\n",
    "fileref = open(\"requirements.txt\",\"r\")\n",
    "contents = fileref.read()\n",
    "print(len(contents))\n",
    "#for lin in lines[:10]:\n",
    "#    print(lin.strip()) # strip - retira os espacos em branco\n",
    "fileref.close()"
   ]
  },
  {
   "cell_type": "code",
   "execution_count": null,
   "metadata": {},
   "outputs": [],
   "source": []
  }
 ],
 "metadata": {
  "kernelspec": {
   "display_name": "pythoncourse",
   "language": "python",
   "name": "python3"
  },
  "language_info": {
   "codemirror_mode": {
    "name": "ipython",
    "version": 3
   },
   "file_extension": ".py",
   "mimetype": "text/x-python",
   "name": "python",
   "nbconvert_exporter": "python",
   "pygments_lexer": "ipython3",
   "version": "3.13.0"
  }
 },
 "nbformat": 4,
 "nbformat_minor": 2
}
