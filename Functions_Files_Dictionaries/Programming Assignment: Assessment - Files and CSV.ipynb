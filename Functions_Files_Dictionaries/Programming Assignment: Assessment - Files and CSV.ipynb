{
 "cells": [
  {
   "cell_type": "markdown",
   "metadata": {},
   "source": [
    "# Assignment 1\n",
    "\n",
    "Files and CSV\n",
    "\n",
    "The textfile, assets/travel_plans.txt, contains the summer travel plans for someone with some commentary. Find the total number of characters in the file and save to the variable num."
   ]
  },
  {
   "cell_type": "code",
   "execution_count": null,
   "metadata": {},
   "outputs": [],
   "source": [
    "num = None\n",
    "# YOUR CODE HERE\n",
    "with open('assets/travel_plans.txt','r') as fr:\n",
    "    num = len(fr.read())"
   ]
  },
  {
   "cell_type": "markdown",
   "metadata": {},
   "source": [
    "Sometimes, as in the next cell, we will show you one or more test cases, in the form of assert statements. Make sure your code pass those tests before you click the \"Submit Assignment\" button.\n",
    "\n",
    "When you click the \"Submit Assignment\" button, there may be additional, hidden tests that are run. If you fail one of those tests, you will get feedback and can resubmit, as many times as you want, until you get them all right.\n",
    "\n",
    "But it takes a little while for the auto grader to run. You will find it is faster, less frustrating, and more educational if you create additional tests of your own, either with assert statements or just print statements. That will give you a faster feedback-and-fix cycle; and formulating those tests will help you really understand what's going on."
   ]
  },
  {
   "cell_type": "code",
   "execution_count": null,
   "metadata": {},
   "outputs": [],
   "source": [
    "assert num == 316, 'num is not assigned the correct value'"
   ]
  },
  {
   "cell_type": "markdown",
   "metadata": {},
   "source": [
    "We have provided a file called assets/emotion_words.txt that contains lines of words that describe emotions. Find the total number of words in the file and assign this value to the variable num_words."
   ]
  },
  {
   "cell_type": "code",
   "execution_count": null,
   "metadata": {},
   "outputs": [],
   "source": [
    "num_words = None\n",
    "\n",
    "# YOUR CODE HERE\n",
    "fileref = open('assets/emotion_words.txt','r')\n",
    "\n",
    "lines = fileref.readlines()\n",
    "\n",
    "num_words = sum(len(lin.split()) for lin in lines)\n",
    "fileref.close()\n"
   ]
  },
  {
   "cell_type": "code",
   "execution_count": null,
   "metadata": {},
   "outputs": [],
   "source": [
    "assert num_words == 48, 'num_words is not assigned the correct value'"
   ]
  },
  {
   "cell_type": "markdown",
   "metadata": {},
   "source": [
    "Assign to the variable `num_lines` the number of lines in the file `assets/school_prompt.txt`.\n",
    "\n",
    "**Note: different file than the previous question!**"
   ]
  },
  {
   "cell_type": "code",
   "execution_count": null,
   "metadata": {},
   "outputs": [],
   "source": [
    "num_lines = None\n",
    "\n",
    "# YOUR CODE HERE\n",
    "fileref = open('assets/school_prompt.txt','r')\n",
    "num_lines = len(fileref.readlines())\n",
    "fileref.close()\n"
   ]
  },
  {
   "cell_type": "code",
   "execution_count": null,
   "metadata": {},
   "outputs": [],
   "source": [
    "assert num_lines == 10, 'num_lines is not assigned the correct value'"
   ]
  },
  {
   "cell_type": "markdown",
   "metadata": {},
   "source": [
    "Assign the first 30 characters of assets/school_prompt.txt as a string to the variable beginning_chars."
   ]
  },
  {
   "cell_type": "code",
   "execution_count": null,
   "metadata": {},
   "outputs": [],
   "source": [
    "beginning_chars = None\n",
    "\n",
    "# YOUR CODE HERE\n",
    "fileref = open('assets/school_prompt.txt','r')\n",
    "beginning_chars = fileref.read()[:30]\n",
    "fileref.close()"
   ]
  },
  {
   "cell_type": "code",
   "execution_count": null,
   "metadata": {},
   "outputs": [],
   "source": [
    "assert type(beginning_chars) == str, 'beginning_chars is not a string'\n",
    "assert len(beginning_chars) == 30, 'beginning_chars is not assigned the correct length'"
   ]
  },
  {
   "cell_type": "markdown",
   "metadata": {},
   "source": [
    "Challenge: Using the file assets/school_prompt.txt, assign the third word of every line to a list called three."
   ]
  },
  {
   "cell_type": "code",
   "execution_count": null,
   "metadata": {},
   "outputs": [],
   "source": [
    "three = []\n",
    "\n",
    "# YOUR CODE HERE\n",
    "fileref = open('assets/school_prompt.txt','r')\n",
    "lines = fileref.readlines()\n",
    "for i in lines:    \n",
    "    three.append(i.split()[2])\n",
    "fileref.close()\n"
   ]
  },
  {
   "cell_type": "code",
   "execution_count": null,
   "metadata": {},
   "outputs": [],
   "source": [
    "assert type(three) == list, 'three is not a list'\n",
    "assert len(three) == 10, 'three is not assigned the correct length'"
   ]
  },
  {
   "cell_type": "markdown",
   "metadata": {},
   "source": [
    "**Challenge:** Create a list called `emotions` that contains the first word of every line in `assets/emotion_words.txt`."
   ]
  },
  {
   "cell_type": "code",
   "execution_count": null,
   "metadata": {},
   "outputs": [],
   "source": [
    "emotions = []\n",
    "# YOUR CODE HERE\n",
    "fileref = open('assets/emotion_words.txt','r')\n",
    "lines = fileref.readlines()\n",
    "for i in lines:    \n",
    "    emotions.append(i.split()[0])\n",
    "fileref.close()"
   ]
  },
  {
   "cell_type": "code",
   "execution_count": null,
   "metadata": {},
   "outputs": [],
   "source": [
    "assert type(emotions) == list, 'emotions is not a list'\n",
    "assert len(emotions) == 7, 'emotions is not assigned the correct length'"
   ]
  },
  {
   "cell_type": "markdown",
   "metadata": {},
   "source": [
    "Assign the first 33 characters from the textfile, `assets/travel_plans.txt` to the variable `first_chars`."
   ]
  },
  {
   "cell_type": "code",
   "execution_count": null,
   "metadata": {},
   "outputs": [],
   "source": [
    "first_chars = None\n",
    "\n",
    "# YOUR CODE HERE\n",
    "fileref = open('assets/travel_plans.txt','r')\n",
    "first_chars = fileref.read()[:33]\n",
    "fileref.close()"
   ]
  },
  {
   "cell_type": "code",
   "execution_count": null,
   "metadata": {},
   "outputs": [],
   "source": [
    "assert type(first_chars) == str, 'first_chars is not a string'\n",
    "assert len(first_chars) == 33, 'first_chars is not assigned the correct length'"
   ]
  },
  {
   "cell_type": "markdown",
   "metadata": {},
   "source": [
    "Challenge: Using the file assets/school_prompt.txt, if the character ‘p’ is in a word, then add the word to a list called p_words."
   ]
  },
  {
   "cell_type": "code",
   "execution_count": null,
   "metadata": {},
   "outputs": [],
   "source": [
    "p_words = []\n",
    "words = []\n",
    "# YOUR CODE HERE\n",
    "\n",
    "fileref = open('assets/school_prompt.txt','r')\n",
    "\n",
    "lines= fileref.readlines()\n",
    "\n",
    "for line in lines:\n",
    "    for word in line.split():\n",
    "        if 'p' in word:\n",
    "            p_words.append(word) \n",
    "            \n",
    "fileref.close()"
   ]
  },
  {
   "cell_type": "code",
   "execution_count": null,
   "metadata": {},
   "outputs": [],
   "source": [
    "assert type(p_words) == list, 'p_words is not a list'\n",
    "assert len(p_words) == 5, 'p_words is not assigned the correct length'"
   ]
  },
  {
   "cell_type": "markdown",
   "metadata": {},
   "source": []
  }
 ],
 "metadata": {
  "kernelspec": {
   "display_name": "pythoncourse",
   "language": "python",
   "name": "python3"
  },
  "language_info": {
   "name": "python",
   "version": "3.13.0"
  }
 },
 "nbformat": 4,
 "nbformat_minor": 2
}
